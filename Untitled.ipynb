{
 "cells": [
  {
   "cell_type": "code",
   "execution_count": 44,
   "metadata": {},
   "outputs": [],
   "source": [
    "from xml.dom.minidom import parse, parseString\n",
    "import pandas as pd\n",
    "import geopy.distance"
   ]
  },
  {
   "cell_type": "code",
   "execution_count": 2,
   "metadata": {},
   "outputs": [],
   "source": [
    "dom1 = parse('input.gpx')  # parse an XML file by name\n",
    "trackpoints = dom1.getElementsByTagName(\"trkpt\")"
   ]
  },
  {
   "cell_type": "code",
   "execution_count": 42,
   "metadata": {},
   "outputs": [
    {
     "data": {
      "text/plain": [
       "3.859799194625118"
      ]
     },
     "execution_count": 42,
     "metadata": {},
     "output_type": "execute_result"
    }
   ],
   "source": [
    "point0 = trackpoints[0]\n",
    "point1 = trackpoints[1]\n",
    "\n",
    "coord0 = (float(point0.getAttributeNode(\"lat\").nodeValue), float(point0.getAttributeNode(\"lon\").nodeValue))\n",
    "coord1 = (float(point1.getAttributeNode(\"lat\").nodeValue), float(point1.getAttributeNode(\"lon\").nodeValue))\n",
    "\n",
    "geopy.distance.geodesic(coord0, coord1).m"
   ]
  },
  {
   "cell_type": "code",
   "execution_count": 55,
   "metadata": {},
   "outputs": [
    {
     "name": "stdout",
     "output_type": "stream",
     "text": [
      "2020-03-24 15:00:00\n",
      "2020-03-24 15:18:34.500000\n"
     ]
    }
   ],
   "source": [
    "begin_date = pd.to_datetime(\"2020-03-24 15:00:00\")\n",
    "delta = pd.Timedelta(10**9)\n",
    "print(begin_date)\n",
    "begin_date = begin_date + delta*1111\n",
    "print(begin_date+delta*3.5)"
   ]
  },
  {
   "cell_type": "code",
   "execution_count": 56,
   "metadata": {},
   "outputs": [
    {
     "data": {
      "text/plain": [
       "'2020-03-24T15:18:31Z'"
      ]
     },
     "execution_count": 56,
     "metadata": {},
     "output_type": "execute_result"
    }
   ],
   "source": [
    "begin_date.strftime(\"%Y-%m-%dT%H:%M:%SZ\")"
   ]
  },
  {
   "cell_type": "code",
   "execution_count": 50,
   "metadata": {},
   "outputs": [
    {
     "data": {
      "text/plain": [
       "'March 24, 2020, 03:00:00 PM'"
      ]
     },
     "execution_count": 50,
     "metadata": {},
     "output_type": "execute_result"
    }
   ],
   "source": [
    "begin_date.strftime('%B %d, %Y, %r')"
   ]
  },
  {
   "cell_type": "code",
   "execution_count": 46,
   "metadata": {},
   "outputs": [
    {
     "data": {
      "text/plain": [
       "Timestamp('1970-01-01 00:00:00')"
      ]
     },
     "execution_count": 46,
     "metadata": {},
     "output_type": "execute_result"
    }
   ],
   "source": [
    "pd.to_datetime(0)"
   ]
  },
  {
   "cell_type": "code",
   "execution_count": 12,
   "metadata": {},
   "outputs": [],
   "source": [
    "time_list = []\n",
    "text_nodes = []\n",
    "\n",
    "for node in trackpoints:\n",
    "    time_node = node.getElementsByTagName(\"time\")\n",
    "    text_node = time_node[0].childNodes\n",
    "    text_nodes.append(text_node)\n",
    "    time_value = text_node[0].nodeValue\n",
    "    time_list.append(time_value)"
   ]
  },
  {
   "cell_type": "code",
   "execution_count": 13,
   "metadata": {},
   "outputs": [],
   "source": [
    "test = parse(\"proloog-Venetie.gpx\")\n",
    "trackpoints = test.getElementsByTagName(\"trkpt\")\n",
    "\n",
    "for i in range(len(trackpoints)):\n",
    "    node = trackpoints[i]\n",
    "    newEle = test.createElement(\"time\")\n",
    "    newText= test.createTextNode(time_list[i])\n",
    "    newEle.appendChild(newText);\n",
    "    \n",
    "    node.appendChild(newEle)"
   ]
  },
  {
   "cell_type": "code",
   "execution_count": 14,
   "metadata": {},
   "outputs": [],
   "source": [
    "with open(\".gpx\", \"w\") as file:\n",
    "    print(test.toprettyxml(), file=file)"
   ]
  }
 ],
 "metadata": {
  "kernelspec": {
   "display_name": "Python 3",
   "language": "python",
   "name": "python3"
  },
  "language_info": {
   "codemirror_mode": {
    "name": "ipython",
    "version": 3
   },
   "file_extension": ".py",
   "mimetype": "text/x-python",
   "name": "python",
   "nbconvert_exporter": "python",
   "pygments_lexer": "ipython3",
   "version": "3.8.2"
  }
 },
 "nbformat": 4,
 "nbformat_minor": 4
}
