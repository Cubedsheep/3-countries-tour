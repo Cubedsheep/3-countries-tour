{
 "cells": [
  {
   "cell_type": "code",
   "execution_count": 1,
   "metadata": {},
   "outputs": [],
   "source": [
    "from xml.dom.minidom import parse, parseString\n",
    "import pandas as pd\n",
    "import geopy.distance"
   ]
  },
  {
   "cell_type": "code",
   "execution_count": 6,
   "metadata": {},
   "outputs": [],
   "source": [
    "# the time to start the ride\n",
    "begin_date = pd.to_datetime(\"2020-03-24 15:00:00\")\n",
    "# one second\n",
    "delta = pd.Timedelta(10**9)\n",
    "# the speed at which the ride is done\n",
    "speed = 51/3.6\n",
    "\n",
    "FORMAT = \"%Y-%m-%dT%H:%M:%SZ\"   # the format for the date\n",
    "FILE_NAME = \"proloog-Venetie\"\n",
    "\n",
    "# extract the xml data from the gpx and all trackpoints\n",
    "xml = parse(FILE_NAME+\".gpx\")\n",
    "trackpoints = xml.getElementsByTagName(\"trkpt\")\n",
    "\n",
    "# add the start time to the first point\n",
    "node = trackpoints[0]              # get the first trackpoint\n",
    "newEle = xml.createElement(\"time\") # create a new element to hold the time\n",
    "newText= xml.createTextNode(begin_date.strftime(FORMAT))      # create node with the date\n",
    "newEle.appendChild(newText);       # add this node to the new element\n",
    "node.appendChild(newEle)           # add the time element to the trackpoint\n",
    "\n",
    "time = begin_date\n",
    "\n",
    "for i in range(1, len(trackpoints)):\n",
    "    node = trackpoints[i]              # get the first trackpoint\n",
    "    newEle = xml.createElement(\"time\") # create a new element to hold the time\n",
    "    \n",
    "    # calculate the distance between this point and the previous\n",
    "    point0 = trackpoints[i-1]\n",
    "    point1 = trackpoints[i]\n",
    "    # extract coordinates\n",
    "    coord0 = (float(point0.getAttributeNode(\"lat\").nodeValue), float(point0.getAttributeNode(\"lon\").nodeValue))\n",
    "    coord1 = (float(point1.getAttributeNode(\"lat\").nodeValue), float(point1.getAttributeNode(\"lon\").nodeValue))\n",
    "    # get the distance in meter\n",
    "    dist = geopy.distance.geodesic(coord0, coord1).m\n",
    "    \n",
    "    # calculate the time between this point and the previous and the time ath this point\n",
    "    seconds = dist/speed\n",
    "    time += seconds*delta\n",
    "    \n",
    "    newText= xml.createTextNode(time.strftime(FORMAT))      # create node with the date\n",
    "    newEle.appendChild(newText);       # add this node to the new element\n",
    "    node.appendChild(newEle)           # add the time element to the trackpoint\n",
    "    \n",
    "    \n",
    "with open(FILE_NAME+\"-with-time.gpx\", \"w\") as file:\n",
    "    print(xml.toprettyxml(), file=file)"
   ]
  }
 ],
 "metadata": {
  "kernelspec": {
   "display_name": "Python 3",
   "language": "python",
   "name": "python3"
  },
  "language_info": {
   "codemirror_mode": {
    "name": "ipython",
    "version": 3
   },
   "file_extension": ".py",
   "mimetype": "text/x-python",
   "name": "python",
   "nbconvert_exporter": "python",
   "pygments_lexer": "ipython3",
   "version": "3.8.2"
  }
 },
 "nbformat": 4,
 "nbformat_minor": 4
}
