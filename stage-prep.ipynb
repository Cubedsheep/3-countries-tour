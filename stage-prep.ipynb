{
 "cells": [
  {
   "cell_type": "code",
   "execution_count": 1,
   "metadata": {},
   "outputs": [],
   "source": [
    "import gpx_editor as gpe\n",
    "import pandas as pd"
   ]
  },
  {
   "cell_type": "code",
   "execution_count": 2,
   "metadata": {},
   "outputs": [],
   "source": [
    "FOLDER_FROM = \"gpx-routes-strava/\"\n",
    "FOLDER_TO = \"gpx-routes-time/\"\n",
    "\n",
    "# the names of the gpx files for rides in Italy\n",
    "ritten_italy = [\"Italië-venetie-1\", \"Italië-Venetië_Triest-2\"]\n",
    "# the speed for each ride (km/h)\n",
    "speed_italy = [52, 40]\n",
    "\n",
    "# the first day of the tour\n",
    "start = pd.to_datetime(\"2019-07-5 10:00:00\")\n",
    "# difference in nanoseconds between the start of two stages\n",
    "delta = pd.Timedelta(10**9*60*60*24)"
   ]
  },
  {
   "cell_type": "code",
   "execution_count": 3,
   "metadata": {},
   "outputs": [],
   "source": [
    "for rit, speed in zip(ritten_italy, speed_italy):\n",
    "    gpe.add_speed(rit, speed, start, folder_from=FOLDER_FROM, folder_to=FOLDER_TO)\n",
    "    start += delta"
   ]
  }
 ],
 "metadata": {
  "kernelspec": {
   "display_name": "Python 3",
   "language": "python",
   "name": "python3"
  },
  "language_info": {
   "codemirror_mode": {
    "name": "ipython",
    "version": 3
   },
   "file_extension": ".py",
   "mimetype": "text/x-python",
   "name": "python",
   "nbconvert_exporter": "python",
   "pygments_lexer": "ipython3",
   "version": "3.8.2"
  }
 },
 "nbformat": 4,
 "nbformat_minor": 4
}
